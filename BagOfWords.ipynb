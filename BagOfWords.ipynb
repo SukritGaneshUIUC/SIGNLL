{
 "cells": [
  {
   "cell_type": "code",
   "execution_count": 54,
   "metadata": {},
   "outputs": [],
   "source": [
    "import torch\n",
    "import numpy as np\n",
    "\n",
    "def convert_review_to_word_list(review):\n",
    "    \"\"\"\n",
    "    Should convert a string containing a review into a list of words in that review\n",
    "    Things to consider: all lowercase? strip punctuation? keep apostrophes?\n",
    "    \"\"\"\n",
    "    \n",
    "    for char in review:\n",
    "        if(not((ord(char) >= 65 and ord(char) <= 90) or (ord(char) >= 97 and ord(char) <= 122))):\n",
    "            review = review.replace(char, \" \");\n",
    "    \n",
    "    \"\"\" tokenize time \"\"\" \n",
    "    review = review.split(\" \");\n",
    "    return review;\n",
    "\n",
    "def generate_dictionary(reviews):\n",
    "    \"\"\"\n",
    "    Given the list of reviews, create a list of all unique words that appear in the review.\n",
    "    (Sorting a list is a good way to check that all of the words are unique)\n",
    "    Maybe compare the length of your list with a friend to make sure you did it right. :)\n",
    "    \"\"\"\n",
    "    \n",
    "    listOfReviewLists = []\n",
    "    \n",
    "    for review in reviews:\n",
    "        listOfReviewLists.append(convert_review_to_word_list(review));\n",
    "        \n",
    "    wordList = {}\n",
    "    \n",
    "    index = 0;\n",
    "    \n",
    "    for reviewList in listOfReviewLists:\n",
    "        for word in reviewList:\n",
    "            if word not in wordList:\n",
    "                wordList[word] = index\n",
    "                index += 1\n",
    "            \n",
    "    return wordList;\n",
    "\n",
    "def review_to_vector(review, dictionary):\n",
    "    \"\"\"\n",
    "    Given a review as a string, generate a vector where the ith element is the number of times that\n",
    "    the ith word in the dictionary appears in the review.\n",
    "    \"\"\"\n",
    "    \n",
    "    wordVector = []\n",
    "    \n",
    "    \"\"\" set up wordVector \"\"\"\n",
    "    for element in dictionary:\n",
    "        wordVector.append(0);\n",
    "        \n",
    "    reviewList = convert_review_to_word_list(review)\n",
    "    \n",
    "    for word in reviewList:\n",
    "        if word in dictionary:\n",
    "            wordVector[dictionary[word]] += 1\n",
    "            \n",
    "    return wordVector\n",
    "        \n",
    "def bag_of_words(reviews):\n",
    "    \"\"\"\n",
    "    Given a list of reviews, return a list bagOfWords of length reviews.length,\n",
    "    with bagOfWords[i] being a list containing the word frequency in reviews[i]\n",
    "    \"\"\"\n",
    "    \n",
    "    bagOfWords = []\n",
    "    \n",
    "    for review in reviews:\n",
    "        bagOfWords.append(review_to_vector(review, dict))\n",
    "        \n",
    "    return bagOfWords\n",
    "    \n",
    "\n",
    "reviews = [\n",
    "    \"My absolute favorite Thai food EVER! I've been coming here for year! I now live in Chicago but every time I'm down in Champaign I insist on Bangkok Thai. Their chicken red curry is the best I've ever had! I've had Thai in every major city in the country and this has yet to be beat.\",\n",
    "    \"I stopped in for a quick dinner with some friends.  I ordered the chicken pad thai and had crab rangoon for an appetizer.  I like how you can request the different level of spice. I chose level 4, but wish I went spicier!  I thought the food was very good, cheap, quick, and convenient.  I would definitely be back!\",\n",
    "    \"Very good price, large portions size, and they are very quick to prepare your order.  Not a fancy restaurant but good for a quick lunch.  The food is very good and you can choose how spicy you want your food.\",\n",
    "    \"Tried yellow curry and basil chicken. Both are too overcooked. Chicken are too chewy. The meals are not as amazing as others said. disappointment\",\n",
    "];"
   ]
  },
  {
   "cell_type": "code",
   "execution_count": 55,
   "metadata": {
    "scrolled": true
   },
   "outputs": [
    {
     "name": "stdout",
     "output_type": "stream",
     "text": [
      "['My', 'absolute', 'favorite', 'Thai', 'food', 'EVER', '', 'I', 've', 'been', 'coming', 'here', 'for', 'year', '', 'I', 'now', 'live', 'in', 'Chicago', 'but', 'every', 'time', 'I', 'm', 'down', 'in', 'Champaign', 'I', 'insist', 'on', 'Bangkok', 'Thai', '', 'Their', 'chicken', 'red', 'curry', 'is', 'the', 'best', 'I', 've', 'ever', 'had', '', 'I', 've', 'had', 'Thai', 'in', 'every', 'major', 'city', 'in', 'the', 'country', 'and', 'this', 'has', 'yet', 'to', 'be', 'beat', '']\n",
      "_____\n",
      "{'My': 0, 'absolute': 1, 'favorite': 2, 'Thai': 3, 'food': 4, 'EVER': 5, '': 6, 'I': 7, 've': 8, 'been': 9, 'coming': 10, 'here': 11, 'for': 12, 'year': 13, 'now': 14, 'live': 15, 'in': 16, 'Chicago': 17, 'but': 18, 'every': 19, 'time': 20, 'm': 21, 'down': 22, 'Champaign': 23, 'insist': 24, 'on': 25, 'Bangkok': 26, 'Their': 27, 'chicken': 28, 'red': 29, 'curry': 30, 'is': 31, 'the': 32, 'best': 33, 'ever': 34, 'had': 35, 'major': 36, 'city': 37, 'country': 38, 'and': 39, 'this': 40, 'has': 41, 'yet': 42, 'to': 43, 'be': 44, 'beat': 45, 'stopped': 46, 'a': 47, 'quick': 48, 'dinner': 49, 'with': 50, 'some': 51, 'friends': 52, 'ordered': 53, 'pad': 54, 'thai': 55, 'crab': 56, 'rangoon': 57, 'an': 58, 'appetizer': 59, 'like': 60, 'how': 61, 'you': 62, 'can': 63, 'request': 64, 'different': 65, 'level': 66, 'of': 67, 'spice': 68, 'chose': 69, 'wish': 70, 'went': 71, 'spicier': 72, 'thought': 73, 'was': 74, 'very': 75, 'good': 76, 'cheap': 77, 'convenient': 78, 'would': 79, 'definitely': 80, 'back': 81, 'Very': 82, 'price': 83, 'large': 84, 'portions': 85, 'size': 86, 'they': 87, 'are': 88, 'prepare': 89, 'your': 90, 'order': 91, 'Not': 92, 'fancy': 93, 'restaurant': 94, 'lunch': 95, 'The': 96, 'choose': 97, 'spicy': 98, 'want': 99, 'Tried': 100, 'yellow': 101, 'basil': 102, 'Both': 103, 'too': 104, 'overcooked': 105, 'Chicken': 106, 'chewy': 107, 'meals': 108, 'not': 109, 'as': 110, 'amazing': 111, 'others': 112, 'said': 113, 'disappointment': 114}\n",
      "[1, 1, 1, 3, 1, 1, 5, 6, 3, 1, 1, 1, 1, 1, 1, 1, 4, 1, 1, 2, 1, 1, 1, 1, 1, 1, 1, 1, 1, 1, 1, 1, 2, 1, 1, 2, 1, 1, 1, 1, 1, 1, 1, 1, 1, 1, 0, 0, 0, 0, 0, 0, 0, 0, 0, 0, 0, 0, 0, 0, 0, 0, 0, 0, 0, 0, 0, 0, 0, 0, 0, 0, 0, 0, 0, 0, 0, 0, 0, 0, 0, 0, 0, 0, 0, 0, 0, 0, 0, 0, 0, 0, 0, 0, 0, 0, 0, 0, 0, 0, 0, 0, 0, 0, 0, 0, 0, 0, 0, 0, 0, 0, 0, 0, 0]\n",
      "[[1, 1, 1, 3, 1, 1, 5, 6, 3, 1, 1, 1, 1, 1, 1, 1, 4, 1, 1, 2, 1, 1, 1, 1, 1, 1, 1, 1, 1, 1, 1, 1, 2, 1, 1, 2, 1, 1, 1, 1, 1, 1, 1, 1, 1, 1, 0, 0, 0, 0, 0, 0, 0, 0, 0, 0, 0, 0, 0, 0, 0, 0, 0, 0, 0, 0, 0, 0, 0, 0, 0, 0, 0, 0, 0, 0, 0, 0, 0, 0, 0, 0, 0, 0, 0, 0, 0, 0, 0, 0, 0, 0, 0, 0, 0, 0, 0, 0, 0, 0, 0, 0, 0, 0, 0, 0, 0, 0, 0, 0, 0, 0, 0, 0, 0], [0, 0, 0, 0, 1, 0, 16, 7, 0, 0, 0, 0, 2, 0, 0, 0, 1, 0, 1, 0, 0, 0, 0, 0, 0, 0, 0, 0, 1, 0, 0, 0, 3, 0, 0, 1, 0, 0, 0, 2, 0, 0, 0, 0, 1, 0, 1, 1, 2, 1, 1, 1, 1, 1, 1, 1, 1, 1, 1, 1, 1, 1, 1, 1, 1, 1, 2, 1, 1, 1, 1, 1, 1, 1, 1, 1, 1, 1, 1, 1, 1, 1, 0, 0, 0, 0, 0, 0, 0, 0, 0, 0, 0, 0, 0, 0, 0, 0, 0, 0, 0, 0, 0, 0, 0, 0, 0, 0, 0, 0, 0, 0, 0, 0, 0], [0, 0, 0, 0, 2, 0, 7, 0, 0, 0, 0, 0, 1, 0, 0, 0, 0, 0, 1, 0, 0, 0, 0, 0, 0, 0, 0, 0, 0, 0, 0, 1, 0, 0, 0, 0, 0, 0, 0, 2, 0, 0, 0, 1, 0, 0, 0, 2, 2, 0, 0, 0, 0, 0, 0, 0, 0, 0, 0, 0, 0, 1, 2, 1, 0, 0, 0, 0, 0, 0, 0, 0, 0, 0, 0, 2, 3, 0, 0, 0, 0, 0, 1, 1, 1, 1, 1, 1, 1, 1, 2, 1, 1, 1, 1, 1, 1, 1, 1, 1, 0, 0, 0, 0, 0, 0, 0, 0, 0, 0, 0, 0, 0, 0, 0], [0, 0, 0, 0, 0, 0, 4, 0, 0, 0, 0, 0, 0, 0, 0, 0, 0, 0, 0, 0, 0, 0, 0, 0, 0, 0, 0, 0, 1, 0, 1, 0, 0, 0, 0, 0, 0, 0, 0, 1, 0, 0, 0, 0, 0, 0, 0, 0, 0, 0, 0, 0, 0, 0, 0, 0, 0, 0, 0, 0, 0, 0, 0, 0, 0, 0, 0, 0, 0, 0, 0, 0, 0, 0, 0, 0, 0, 0, 0, 0, 0, 0, 0, 0, 0, 0, 0, 0, 3, 0, 0, 0, 0, 0, 0, 0, 1, 0, 0, 0, 1, 1, 1, 1, 2, 1, 1, 1, 1, 1, 2, 1, 1, 1, 1]]\n"
     ]
    }
   ],
   "source": [
    "print(convert_review_to_word_list(reviews[0]))\n",
    "\n",
    "print(\"_____\")\n",
    "\n",
    "dict = generate_dictionary(reviews)\n",
    "print(dict)\n",
    "\n",
    "print(review_to_vector(reviews[0], dict))\n",
    "\n",
    "print(bag_of_words(reviews))"
   ]
  },
  {
   "cell_type": "code",
   "execution_count": null,
   "metadata": {},
   "outputs": [],
   "source": []
  },
  {
   "cell_type": "code",
   "execution_count": null,
   "metadata": {},
   "outputs": [],
   "source": []
  }
 ],
 "metadata": {
  "kernelspec": {
   "display_name": "Python 3",
   "language": "python",
   "name": "python3"
  },
  "language_info": {
   "codemirror_mode": {
    "name": "ipython",
    "version": 3
   },
   "file_extension": ".py",
   "mimetype": "text/x-python",
   "name": "python",
   "nbconvert_exporter": "python",
   "pygments_lexer": "ipython3",
   "version": "3.7.3"
  }
 },
 "nbformat": 4,
 "nbformat_minor": 2
}
